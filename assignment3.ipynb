{
 "cells": [
  {
   "cell_type": "markdown",
   "metadata": {
    "id": "u-EEv9utoT69"
   },
   "source": [
    "# Task 1: User-based Collaborative Filtering\n"
   ]
  },
  {
   "cell_type": "code",
   "execution_count": 1,
   "metadata": {
    "id": "Qykq4YuQtZUS"
   },
   "outputs": [],
   "source": [
    "#import libraries.\n",
    "\n",
    "import pandas as pd\n",
    "import numpy as np"
   ]
  },
  {
   "cell_type": "code",
   "execution_count": 2,
   "metadata": {},
   "outputs": [
    {
     "name": "stdout",
     "output_type": "stream",
     "text": [
      "/Users/issaczerihun/Desktop/untitled folder/ml-1m\n"
     ]
    }
   ],
   "source": [
    "cd ml-1m "
   ]
  },
  {
   "cell_type": "code",
   "execution_count": 3,
   "metadata": {},
   "outputs": [],
   "source": [
    "ratingColumnNames = ['User ID', 'Movie ID', 'Rating', 'Timestamp']"
   ]
  },
  {
   "cell_type": "code",
   "execution_count": 4,
   "metadata": {},
   "outputs": [],
   "source": [
    "filename = 'ratings.csv'"
   ]
  },
  {
   "cell_type": "code",
   "execution_count": 5,
   "metadata": {},
   "outputs": [],
   "source": [
    "#Step1: reading ratings.csv file\n",
    "ratings_df = pd.read_csv(filename, sep='::', names = ratingColumnNames, engine='python')"
   ]
  },
  {
   "cell_type": "code",
   "execution_count": 6,
   "metadata": {},
   "outputs": [
    {
     "data": {
      "text/html": [
       "<div>\n",
       "<style scoped>\n",
       "    .dataframe tbody tr th:only-of-type {\n",
       "        vertical-align: middle;\n",
       "    }\n",
       "\n",
       "    .dataframe tbody tr th {\n",
       "        vertical-align: top;\n",
       "    }\n",
       "\n",
       "    .dataframe thead th {\n",
       "        text-align: right;\n",
       "    }\n",
       "</style>\n",
       "<table border=\"1\" class=\"dataframe\">\n",
       "  <thead>\n",
       "    <tr style=\"text-align: right;\">\n",
       "      <th></th>\n",
       "      <th>User ID</th>\n",
       "      <th>Movie ID</th>\n",
       "      <th>Rating</th>\n",
       "      <th>Timestamp</th>\n",
       "    </tr>\n",
       "  </thead>\n",
       "  <tbody>\n",
       "    <tr>\n",
       "      <th>0</th>\n",
       "      <td>1</td>\n",
       "      <td>1193</td>\n",
       "      <td>5</td>\n",
       "      <td>978300760</td>\n",
       "    </tr>\n",
       "    <tr>\n",
       "      <th>1</th>\n",
       "      <td>1</td>\n",
       "      <td>661</td>\n",
       "      <td>3</td>\n",
       "      <td>978302109</td>\n",
       "    </tr>\n",
       "    <tr>\n",
       "      <th>2</th>\n",
       "      <td>1</td>\n",
       "      <td>914</td>\n",
       "      <td>3</td>\n",
       "      <td>978301968</td>\n",
       "    </tr>\n",
       "    <tr>\n",
       "      <th>3</th>\n",
       "      <td>1</td>\n",
       "      <td>3408</td>\n",
       "      <td>4</td>\n",
       "      <td>978300275</td>\n",
       "    </tr>\n",
       "    <tr>\n",
       "      <th>4</th>\n",
       "      <td>1</td>\n",
       "      <td>2355</td>\n",
       "      <td>5</td>\n",
       "      <td>978824291</td>\n",
       "    </tr>\n",
       "  </tbody>\n",
       "</table>\n",
       "</div>"
      ],
      "text/plain": [
       "   User ID  Movie ID  Rating  Timestamp\n",
       "0        1      1193       5  978300760\n",
       "1        1       661       3  978302109\n",
       "2        1       914       3  978301968\n",
       "3        1      3408       4  978300275\n",
       "4        1      2355       5  978824291"
      ]
     },
     "execution_count": 6,
     "metadata": {},
     "output_type": "execute_result"
    }
   ],
   "source": [
    "ratings_df.head()"
   ]
  },
  {
   "cell_type": "code",
   "execution_count": 7,
   "metadata": {},
   "outputs": [
    {
     "data": {
      "text/plain": [
       "(1000209, 4)"
      ]
     },
     "execution_count": 7,
     "metadata": {},
     "output_type": "execute_result"
    }
   ],
   "source": [
    "ratings_df.shape"
   ]
  },
  {
   "cell_type": "code",
   "execution_count": 8,
   "metadata": {},
   "outputs": [
    {
     "name": "stdout",
     "output_type": "stream",
     "text": [
      "Max movie ID in dataset: 3952\n"
     ]
    }
   ],
   "source": [
    "# Step 2: Obtaining the number of total users and items.\n",
    "#Number of movies ranging from 1 - 3952\n",
    "max_movie_id = ratings_df['Movie ID'].max()\n",
    "print(\"Max movie ID in dataset:\", max_movie_id)"
   ]
  },
  {
   "cell_type": "code",
   "execution_count": 9,
   "metadata": {},
   "outputs": [],
   "source": [
    "\n",
    "# You'll need this in order build user-item matrices.\n",
    "n_users = ratings_df[\"User ID\"].nunique()\n",
    "n_movies = max_movie_id\n"
   ]
  },
  {
   "cell_type": "code",
   "execution_count": 10,
   "metadata": {},
   "outputs": [
    {
     "name": "stdout",
     "output_type": "stream",
     "text": [
      "Num users: 6040\n",
      "Num movies: 3952\n"
     ]
    }
   ],
   "source": [
    "print(f\"Num users: {n_users}\")\n",
    "print(f\"Num movies: {n_movies}\")"
   ]
  },
  {
   "cell_type": "code",
   "execution_count": 11,
   "metadata": {},
   "outputs": [],
   "source": [
    "# Generate a random number between 0 and 6039 (number of users)\n",
    "import random\n",
    "random.seed(3)\n",
    "random_user = random.randint(0, 6039)\n"
   ]
  },
  {
   "cell_type": "code",
   "execution_count": 12,
   "metadata": {},
   "outputs": [
    {
     "name": "stdout",
     "output_type": "stream",
     "text": [
      "Random user: User 1949\n"
     ]
    }
   ],
   "source": [
    "print(\"Random user: User\", random_user)"
   ]
  },
  {
   "cell_type": "code",
   "execution_count": 13,
   "metadata": {},
   "outputs": [],
   "source": [
    "# Step 3: Next we want to split the dataset into training and testing parts.\n",
    "from sklearn.model_selection import train_test_split\n",
    "train_df, test_df = train_test_split(ratings_df, random_state = 3)"
   ]
  },
  {
   "cell_type": "code",
   "execution_count": 14,
   "metadata": {},
   "outputs": [
    {
     "data": {
      "text/html": [
       "<div>\n",
       "<style scoped>\n",
       "    .dataframe tbody tr th:only-of-type {\n",
       "        vertical-align: middle;\n",
       "    }\n",
       "\n",
       "    .dataframe tbody tr th {\n",
       "        vertical-align: top;\n",
       "    }\n",
       "\n",
       "    .dataframe thead th {\n",
       "        text-align: right;\n",
       "    }\n",
       "</style>\n",
       "<table border=\"1\" class=\"dataframe\">\n",
       "  <thead>\n",
       "    <tr style=\"text-align: right;\">\n",
       "      <th></th>\n",
       "      <th>User ID</th>\n",
       "      <th>Movie ID</th>\n",
       "      <th>Rating</th>\n",
       "      <th>Timestamp</th>\n",
       "    </tr>\n",
       "  </thead>\n",
       "  <tbody>\n",
       "    <tr>\n",
       "      <th>70637</th>\n",
       "      <td>476</td>\n",
       "      <td>2262</td>\n",
       "      <td>2</td>\n",
       "      <td>976222807</td>\n",
       "    </tr>\n",
       "    <tr>\n",
       "      <th>641902</th>\n",
       "      <td>3859</td>\n",
       "      <td>338</td>\n",
       "      <td>3</td>\n",
       "      <td>965927649</td>\n",
       "    </tr>\n",
       "    <tr>\n",
       "      <th>468924</th>\n",
       "      <td>2888</td>\n",
       "      <td>667</td>\n",
       "      <td>2</td>\n",
       "      <td>972061868</td>\n",
       "    </tr>\n",
       "    <tr>\n",
       "      <th>12361</th>\n",
       "      <td>93</td>\n",
       "      <td>2916</td>\n",
       "      <td>4</td>\n",
       "      <td>977631699</td>\n",
       "    </tr>\n",
       "    <tr>\n",
       "      <th>993177</th>\n",
       "      <td>6000</td>\n",
       "      <td>2135</td>\n",
       "      <td>2</td>\n",
       "      <td>956884496</td>\n",
       "    </tr>\n",
       "    <tr>\n",
       "      <th>...</th>\n",
       "      <td>...</td>\n",
       "      <td>...</td>\n",
       "      <td>...</td>\n",
       "      <td>...</td>\n",
       "    </tr>\n",
       "    <tr>\n",
       "      <th>572344</th>\n",
       "      <td>3507</td>\n",
       "      <td>2710</td>\n",
       "      <td>2</td>\n",
       "      <td>966999148</td>\n",
       "    </tr>\n",
       "    <tr>\n",
       "      <th>452227</th>\n",
       "      <td>2785</td>\n",
       "      <td>2458</td>\n",
       "      <td>2</td>\n",
       "      <td>972990850</td>\n",
       "    </tr>\n",
       "    <tr>\n",
       "      <th>601337</th>\n",
       "      <td>3654</td>\n",
       "      <td>1079</td>\n",
       "      <td>4</td>\n",
       "      <td>966458221</td>\n",
       "    </tr>\n",
       "    <tr>\n",
       "      <th>722584</th>\n",
       "      <td>4327</td>\n",
       "      <td>2628</td>\n",
       "      <td>3</td>\n",
       "      <td>965244573</td>\n",
       "    </tr>\n",
       "    <tr>\n",
       "      <th>71530</th>\n",
       "      <td>481</td>\n",
       "      <td>1101</td>\n",
       "      <td>5</td>\n",
       "      <td>976219014</td>\n",
       "    </tr>\n",
       "  </tbody>\n",
       "</table>\n",
       "<p>750156 rows × 4 columns</p>\n",
       "</div>"
      ],
      "text/plain": [
       "        User ID  Movie ID  Rating  Timestamp\n",
       "70637       476      2262       2  976222807\n",
       "641902     3859       338       3  965927649\n",
       "468924     2888       667       2  972061868\n",
       "12361        93      2916       4  977631699\n",
       "993177     6000      2135       2  956884496\n",
       "...         ...       ...     ...        ...\n",
       "572344     3507      2710       2  966999148\n",
       "452227     2785      2458       2  972990850\n",
       "601337     3654      1079       4  966458221\n",
       "722584     4327      2628       3  965244573\n",
       "71530       481      1101       5  976219014\n",
       "\n",
       "[750156 rows x 4 columns]"
      ]
     },
     "execution_count": 14,
     "metadata": {},
     "output_type": "execute_result"
    }
   ],
   "source": [
    "train_df"
   ]
  },
  {
   "cell_type": "code",
   "execution_count": 15,
   "metadata": {
    "scrolled": true
   },
   "outputs": [
    {
     "data": {
      "text/html": [
       "<div>\n",
       "<style scoped>\n",
       "    .dataframe tbody tr th:only-of-type {\n",
       "        vertical-align: middle;\n",
       "    }\n",
       "\n",
       "    .dataframe tbody tr th {\n",
       "        vertical-align: top;\n",
       "    }\n",
       "\n",
       "    .dataframe thead th {\n",
       "        text-align: right;\n",
       "    }\n",
       "</style>\n",
       "<table border=\"1\" class=\"dataframe\">\n",
       "  <thead>\n",
       "    <tr style=\"text-align: right;\">\n",
       "      <th></th>\n",
       "      <th>User ID</th>\n",
       "      <th>Movie ID</th>\n",
       "      <th>Rating</th>\n",
       "      <th>Timestamp</th>\n",
       "    </tr>\n",
       "  </thead>\n",
       "  <tbody>\n",
       "    <tr>\n",
       "      <th>7961</th>\n",
       "      <td>53</td>\n",
       "      <td>2872</td>\n",
       "      <td>5</td>\n",
       "      <td>977981423</td>\n",
       "    </tr>\n",
       "    <tr>\n",
       "      <th>270019</th>\n",
       "      <td>1635</td>\n",
       "      <td>1394</td>\n",
       "      <td>4</td>\n",
       "      <td>974771697</td>\n",
       "    </tr>\n",
       "    <tr>\n",
       "      <th>773462</th>\n",
       "      <td>4610</td>\n",
       "      <td>1544</td>\n",
       "      <td>2</td>\n",
       "      <td>984859886</td>\n",
       "    </tr>\n",
       "    <tr>\n",
       "      <th>600962</th>\n",
       "      <td>3653</td>\n",
       "      <td>3793</td>\n",
       "      <td>5</td>\n",
       "      <td>966453201</td>\n",
       "    </tr>\n",
       "    <tr>\n",
       "      <th>384987</th>\n",
       "      <td>2249</td>\n",
       "      <td>2706</td>\n",
       "      <td>5</td>\n",
       "      <td>974596882</td>\n",
       "    </tr>\n",
       "    <tr>\n",
       "      <th>...</th>\n",
       "      <td>...</td>\n",
       "      <td>...</td>\n",
       "      <td>...</td>\n",
       "      <td>...</td>\n",
       "    </tr>\n",
       "    <tr>\n",
       "      <th>387043</th>\n",
       "      <td>2263</td>\n",
       "      <td>3177</td>\n",
       "      <td>3</td>\n",
       "      <td>974582457</td>\n",
       "    </tr>\n",
       "    <tr>\n",
       "      <th>675656</th>\n",
       "      <td>4053</td>\n",
       "      <td>2001</td>\n",
       "      <td>4</td>\n",
       "      <td>965491688</td>\n",
       "    </tr>\n",
       "    <tr>\n",
       "      <th>863563</th>\n",
       "      <td>5200</td>\n",
       "      <td>1678</td>\n",
       "      <td>4</td>\n",
       "      <td>961648057</td>\n",
       "    </tr>\n",
       "    <tr>\n",
       "      <th>892619</th>\n",
       "      <td>5393</td>\n",
       "      <td>1956</td>\n",
       "      <td>5</td>\n",
       "      <td>960320999</td>\n",
       "    </tr>\n",
       "    <tr>\n",
       "      <th>455186</th>\n",
       "      <td>2802</td>\n",
       "      <td>3114</td>\n",
       "      <td>5</td>\n",
       "      <td>1005786977</td>\n",
       "    </tr>\n",
       "  </tbody>\n",
       "</table>\n",
       "<p>250053 rows × 4 columns</p>\n",
       "</div>"
      ],
      "text/plain": [
       "        User ID  Movie ID  Rating   Timestamp\n",
       "7961         53      2872       5   977981423\n",
       "270019     1635      1394       4   974771697\n",
       "773462     4610      1544       2   984859886\n",
       "600962     3653      3793       5   966453201\n",
       "384987     2249      2706       5   974596882\n",
       "...         ...       ...     ...         ...\n",
       "387043     2263      3177       3   974582457\n",
       "675656     4053      2001       4   965491688\n",
       "863563     5200      1678       4   961648057\n",
       "892619     5393      1956       5   960320999\n",
       "455186     2802      3114       5  1005786977\n",
       "\n",
       "[250053 rows x 4 columns]"
      ]
     },
     "execution_count": 15,
     "metadata": {},
     "output_type": "execute_result"
    }
   ],
   "source": [
    "test_df"
   ]
  },
  {
   "cell_type": "code",
   "execution_count": 16,
   "metadata": {},
   "outputs": [],
   "source": [
    "# Step 4: Build user items matrices for both training and testing datasets. \n",
    "\n",
    "trainingDataset = np.zeros((n_users,n_movies))\n",
    "testingDataset = np.zeros((n_users,n_movies))"
   ]
  },
  {
   "cell_type": "code",
   "execution_count": 17,
   "metadata": {},
   "outputs": [],
   "source": [
    "#Populate the matrix with ratings from training dataset\n",
    "\n",
    "# First row (check trainingDataset) with user id 476 and movie id 2262.\n",
    "# Rated value (3) is going to be marked at matrix value (476-1,2262-1) (* don't forget, starts at 0).\n",
    "# Continues on for whole of training dataset. \n",
    "\n",
    "for row in train_df.itertuples():\n",
    "    trainingDataset[row[1]-1, row[2]-1] = row[3]\n",
    "trainingDataset = pd.DataFrame(trainingDataset)"
   ]
  },
  {
   "cell_type": "code",
   "execution_count": 18,
   "metadata": {},
   "outputs": [],
   "source": [
    "#Populate the matrix with ratings from testing dataset\n",
    "for row in test_df.itertuples():\n",
    "    testingDataset[row[1]-1, row[2]-1] = row[3]\n",
    "testingDataset = pd.DataFrame(testingDataset)"
   ]
  },
  {
   "cell_type": "code",
   "execution_count": 19,
   "metadata": {},
   "outputs": [
    {
     "data": {
      "text/plain": [
       "(      0     1     2     3     4     5     6     7     8     9     ...  3942  \\\n",
       " 0      5.0   0.0   0.0   0.0   0.0   0.0   0.0   0.0   0.0   0.0  ...   0.0   \n",
       " 1      0.0   0.0   0.0   0.0   0.0   0.0   0.0   0.0   0.0   0.0  ...   0.0   \n",
       " 2      0.0   0.0   0.0   0.0   0.0   0.0   0.0   0.0   0.0   0.0  ...   0.0   \n",
       " 3      0.0   0.0   0.0   0.0   0.0   0.0   0.0   0.0   0.0   0.0  ...   0.0   \n",
       " 4      0.0   0.0   0.0   0.0   0.0   2.0   0.0   0.0   0.0   0.0  ...   0.0   \n",
       " ...    ...   ...   ...   ...   ...   ...   ...   ...   ...   ...  ...   ...   \n",
       " 6035   0.0   0.0   0.0   0.0   0.0   3.0   0.0   0.0   0.0   0.0  ...   0.0   \n",
       " 6036   0.0   0.0   0.0   0.0   0.0   0.0   0.0   0.0   0.0   0.0  ...   0.0   \n",
       " 6037   0.0   0.0   0.0   0.0   0.0   0.0   0.0   0.0   0.0   0.0  ...   0.0   \n",
       " 6038   0.0   0.0   0.0   0.0   0.0   0.0   0.0   0.0   0.0   0.0  ...   0.0   \n",
       " 6039   3.0   0.0   0.0   0.0   0.0   0.0   0.0   0.0   0.0   0.0  ...   0.0   \n",
       " \n",
       "       3943  3944  3945  3946  3947  3948  3949  3950  3951  \n",
       " 0      0.0   0.0   0.0   0.0   0.0   0.0   0.0   0.0   0.0  \n",
       " 1      0.0   0.0   0.0   0.0   0.0   0.0   0.0   0.0   0.0  \n",
       " 2      0.0   0.0   0.0   0.0   0.0   0.0   0.0   0.0   0.0  \n",
       " 3      0.0   0.0   0.0   0.0   0.0   0.0   0.0   0.0   0.0  \n",
       " 4      0.0   0.0   0.0   0.0   0.0   0.0   0.0   0.0   0.0  \n",
       " ...    ...   ...   ...   ...   ...   ...   ...   ...   ...  \n",
       " 6035   0.0   0.0   0.0   0.0   0.0   0.0   0.0   0.0   0.0  \n",
       " 6036   0.0   0.0   0.0   0.0   0.0   0.0   0.0   0.0   0.0  \n",
       " 6037   0.0   0.0   0.0   0.0   0.0   0.0   0.0   0.0   0.0  \n",
       " 6038   0.0   0.0   0.0   0.0   0.0   0.0   0.0   0.0   0.0  \n",
       " 6039   0.0   0.0   0.0   0.0   0.0   0.0   0.0   0.0   0.0  \n",
       " \n",
       " [6040 rows x 3952 columns],\n",
       "       0     1     2     3     4     5     6     7     8     9     ...  3942  \\\n",
       " 0      0.0   0.0   0.0   0.0   0.0   0.0   0.0   0.0   0.0   0.0  ...   0.0   \n",
       " 1      0.0   0.0   0.0   0.0   0.0   0.0   0.0   0.0   0.0   0.0  ...   0.0   \n",
       " 2      0.0   0.0   0.0   0.0   0.0   0.0   0.0   0.0   0.0   0.0  ...   0.0   \n",
       " 3      0.0   0.0   0.0   0.0   0.0   0.0   0.0   0.0   0.0   0.0  ...   0.0   \n",
       " 4      0.0   0.0   0.0   0.0   0.0   0.0   0.0   0.0   0.0   0.0  ...   0.0   \n",
       " ...    ...   ...   ...   ...   ...   ...   ...   ...   ...   ...  ...   ...   \n",
       " 6035   0.0   0.0   0.0   2.0   0.0   0.0   0.0   0.0   0.0   0.0  ...   0.0   \n",
       " 6036   0.0   0.0   0.0   0.0   0.0   0.0   0.0   0.0   0.0   0.0  ...   0.0   \n",
       " 6037   0.0   0.0   0.0   0.0   0.0   0.0   0.0   0.0   0.0   0.0  ...   0.0   \n",
       " 6038   0.0   0.0   0.0   0.0   0.0   0.0   0.0   0.0   0.0   0.0  ...   0.0   \n",
       " 6039   0.0   0.0   0.0   0.0   0.0   0.0   0.0   0.0   0.0   0.0  ...   0.0   \n",
       " \n",
       "       3943  3944  3945  3946  3947  3948  3949  3950  3951  \n",
       " 0      0.0   0.0   0.0   0.0   0.0   0.0   0.0   0.0   0.0  \n",
       " 1      0.0   0.0   0.0   0.0   0.0   0.0   0.0   0.0   0.0  \n",
       " 2      0.0   0.0   0.0   0.0   0.0   0.0   0.0   0.0   0.0  \n",
       " 3      0.0   0.0   0.0   0.0   0.0   0.0   0.0   0.0   0.0  \n",
       " 4      0.0   0.0   0.0   0.0   0.0   0.0   0.0   0.0   0.0  \n",
       " ...    ...   ...   ...   ...   ...   ...   ...   ...   ...  \n",
       " 6035   0.0   0.0   0.0   0.0   0.0   0.0   0.0   0.0   0.0  \n",
       " 6036   0.0   0.0   0.0   0.0   0.0   0.0   0.0   0.0   0.0  \n",
       " 6037   0.0   0.0   0.0   0.0   0.0   0.0   0.0   0.0   0.0  \n",
       " 6038   0.0   0.0   0.0   0.0   0.0   0.0   0.0   0.0   0.0  \n",
       " 6039   0.0   0.0   0.0   0.0   0.0   0.0   0.0   0.0   0.0  \n",
       " \n",
       " [6040 rows x 3952 columns])"
      ]
     },
     "execution_count": 19,
     "metadata": {},
     "output_type": "execute_result"
    }
   ],
   "source": [
    "trainingDataset, testingDataset"
   ]
  },
  {
   "cell_type": "code",
   "execution_count": 20,
   "metadata": {},
   "outputs": [],
   "source": [
    "#Generating a random movie\n",
    "random.seed(9)\n",
    "random_movie = random.randint(0, n_movies - 1)"
   ]
  },
  {
   "cell_type": "code",
   "execution_count": 21,
   "metadata": {},
   "outputs": [
    {
     "name": "stdout",
     "output_type": "stream",
     "text": [
      "Random movie: ID 1896\n"
     ]
    }
   ],
   "source": [
    "print(\"Random movie: ID\", random_movie)"
   ]
  },
  {
   "cell_type": "code",
   "execution_count": 22,
   "metadata": {},
   "outputs": [
    {
     "data": {
      "text/plain": [
       "344.0"
      ]
     },
     "execution_count": 22,
     "metadata": {},
     "output_type": "execute_result"
    }
   ],
   "source": [
    "# Checking to see if anyone has rated the movie.\n",
    "trainingDataset[1896].sum()"
   ]
  },
  {
   "cell_type": "code",
   "execution_count": 23,
   "metadata": {},
   "outputs": [],
   "source": [
    "import numpy as np\n",
    "\n",
    "# Create an empty 2D array to store Jaccard similarities\n",
    "jaccard_similarity_score = np.zeros((len(trainingDataset), len(trainingDataset)))\n",
    "# Nested loop that will store the similarity scores of every pair of users.\n",
    "for i, user_i in enumerate(trainingDataset.values):\n",
    "    for j, user_j in enumerate(trainingDataset.values):\n",
    "\n",
    "        # Create sets of movies where the user i and j rated a movie above a zero. \n",
    "        set_i = set(np.where(user_i > 0)[0])\n",
    "        set_j = set(np.where(user_j > 0)[0])\n",
    "\n",
    "        # Calculate the intersection and union of the sets\n",
    "        intersection = len(set_i.intersection(set_j))\n",
    "        union = len(set_i.union(set_j))\n",
    "\n",
    "        # Calculating Jaccard similarity\n",
    "        if union == 0:\n",
    "             jaccard_score = 0.0\n",
    "            # This is done to avoid zero division\n",
    "        else:\n",
    "            jaccard_score = intersection / union\n",
    "\n",
    "        # Store the Jaccard similarity in the array\n",
    "        jaccard_similarity_score[i][j] = jaccard_score\n",
    "\n",
    "# jaccard_similarity_score now contains the Jaccard similarities between all pairs of users"
   ]
  },
  {
   "cell_type": "code",
   "execution_count": 24,
   "metadata": {},
   "outputs": [
    {
     "data": {
      "text/plain": [
       "array([[1.        , 0.01492537, 0.04109589, ..., 0.        , 0.10084034,\n",
       "        0.02310231],\n",
       "       [0.01492537, 1.        , 0.04065041, ..., 0.02857143, 0.03977273,\n",
       "        0.07100592],\n",
       "       [0.04109589, 0.04065041, 1.        , ..., 0.0212766 , 0.06034483,\n",
       "        0.03780069],\n",
       "       ...,\n",
       "       [0.        , 0.02857143, 0.0212766 , ..., 1.        , 0.01980198,\n",
       "        0.02545455],\n",
       "       [0.10084034, 0.03977273, 0.06034483, ..., 0.01980198, 1.        ,\n",
       "        0.08181818],\n",
       "       [0.02310231, 0.07100592, 0.03780069, ..., 0.02545455, 0.08181818,\n",
       "        1.        ]])"
      ]
     },
     "execution_count": 24,
     "metadata": {},
     "output_type": "execute_result"
    }
   ],
   "source": [
    "jaccard_similarity_score"
   ]
  },
  {
   "cell_type": "code",
   "execution_count": 25,
   "metadata": {},
   "outputs": [
    {
     "name": "stdout",
     "output_type": "stream",
     "text": [
      "RMSE for user 1949 when K = 1: 0.13126144600468845\n"
     ]
    }
   ],
   "source": [
    "# Following code inspired from item_KNN_based_CF.ipynb -> courtesy of RMIT University.\n",
    "K = 1\n",
    "EPSILON = 1e-9\n",
    "# Create an empty array to store predictions for user 1949\n",
    "target_user_predictions = np.zeros_like(testingDataset.values[random_user])\n",
    "\n",
    "for j in range(n_movies):\n",
    "    if testingDataset.values[random_user, j] > 0:\n",
    "        # Find top-K most similar users to the target user, excluding itself\n",
    "        similar_user_ids = np.argsort(jaccard_similarity_score[random_user])[-(K + 1):-1]\n",
    "\n",
    "        # Generates the coefficient values of similar users\n",
    "        similar_values = jaccard_similarity_score[random_user][similar_user_ids]\n",
    "\n",
    "        # Calculates the average value of the target user's ratings\n",
    "        similar_users = trainingDataset.values[similar_user_ids]\n",
    "        user_mean = np.sum(trainingDataset.values[random_user]) / (np.sum(np.clip(trainingDataset.values[random_user], 0, 1)) + EPSILON)\n",
    "        similar_user_mean = np.sum(similar_users, axis=1) / (np.sum(np.clip(similar_users, 0, 1), axis=1) + EPSILON)\n",
    "\n",
    "        # Select the users who rated item j\n",
    "        users_who_rated_J = similar_users[:, j] > 0\n",
    "\n",
    "        sum_mean = similar_values[users_who_rated_J] * (similar_users[users_who_rated_J, j] - similar_user_mean[users_who_rated_J])\n",
    "\n",
    "        # Filter unrated items\n",
    "        weight = np.clip(similar_users[users_who_rated_J, j], 0, 1)\n",
    "        sum_mean *= weight\n",
    "\n",
    "        # Calculate the predicted rating for item j by the target user\n",
    "        target_user_predictions[j] = user_mean + np.sum(sum_mean) / (np.sum(similar_values[users_who_rated_J]) + EPSILON)\n",
    "        target_user_predictions[j] = np.clip(target_user_predictions[j], 0, 5)\n",
    "\n",
    "# Actual ratings for the target user\n",
    "actual_ratings = testingDataset.values[random_user, :]\n",
    "\n",
    "from sklearn.metrics import mean_squared_error\n",
    "# Calculate RMSE for the target user's ratings\n",
    "mse = mean_squared_error(actual_ratings, target_user_predictions)\n",
    "rmse = np.sqrt(mse)\n",
    "\n",
    "print(f\"RMSE for user {random_user} when K = {K}: {rmse}\")\n"
   ]
  },
  {
   "cell_type": "code",
   "execution_count": 26,
   "metadata": {},
   "outputs": [
    {
     "name": "stdout",
     "output_type": "stream",
     "text": [
      "RMSE for user 1949 when K = 10: 0.11350182362972026\n"
     ]
    }
   ],
   "source": [
    "# Above code repeated for k values 10, 20, 30 and 50. \n",
    "# Following code inspired from item_KNN_based_CF.ipynb -> courtesy of RMIT.\n",
    "K = 10\n",
    "EPSILON = 1e-9\n",
    "\n",
    "for j in range(n_movies):\n",
    "    if testingDataset.values[random_user, j] > 0:\n",
    "\n",
    "        similar_user_ids = np.argsort(jaccard_similarity_score[random_user])[-(K + 1):-1]\n",
    "\n",
    "        similar_values = jaccard_similarity_score[random_user][similar_user_ids]\n",
    "\n",
    "        similar_users = trainingDataset.values[similar_user_ids]\n",
    "        user_mean = np.sum(trainingDataset.values[random_user]) / (np.sum(np.clip(trainingDataset.values[random_user], 0, 1)) + EPSILON)\n",
    "        similar_user_mean = np.sum(similar_users, axis=1) / (np.sum(np.clip(similar_users, 0, 1), axis=1) + EPSILON)\n",
    "\n",
    "        users_who_rated_J = similar_users[:, j] > 0\n",
    "        \n",
    "        sum_mean = similar_values[users_who_rated_J] * (similar_users[users_who_rated_J, j] - similar_user_mean[users_who_rated_J])\n",
    "\n",
    "        weight = np.clip(similar_users[users_who_rated_J, j], 0, 1)\n",
    "        sum_mean *= weight\n",
    "\n",
    "        target_user_predictions[j] = user_mean + np.sum(sum_mean) / (np.sum(similar_values[users_who_rated_J]) + EPSILON)\n",
    "        target_user_predictions[j] = np.clip(target_user_predictions[j], 0, 5)\n",
    "\n",
    "\n",
    "actual_ratings = testingDataset.values[random_user, :]\n",
    "\n",
    "mse = mean_squared_error(actual_ratings, target_user_predictions)\n",
    "rmse = np.sqrt(mse)\n",
    "\n",
    "print(f\"RMSE for user {random_user} when K = {K}: {rmse}\")\n",
    "\n"
   ]
  },
  {
   "cell_type": "code",
   "execution_count": 27,
   "metadata": {},
   "outputs": [
    {
     "name": "stdout",
     "output_type": "stream",
     "text": [
      "RMSE for user 1949 when K = 20: 0.12582975967352836\n"
     ]
    }
   ],
   "source": [
    "# Following code inspired from item_KNN_based_CF.ipynb -> courtesy of RMIT.\n",
    "K = 20\n",
    "EPSILON = 1e-9\n",
    "\n",
    "target_user_predictions = np.zeros_like(testingDataset.values[random_user])\n",
    "\n",
    "for j in range(n_movies):\n",
    "    if testingDataset.values[random_user, j] > 0:\n",
    "\n",
    "        similar_user_ids = np.argsort(jaccard_similarity_score[random_user])[-(K + 1):-1]\n",
    "\n",
    "        similar_values = jaccard_similarity_score[random_user][similar_user_ids]\n",
    "\n",
    "        similar_users = trainingDataset.values[similar_user_ids]\n",
    "        user_mean = np.sum(trainingDataset.values[random_user]) / (np.sum(np.clip(trainingDataset.values[random_user], 0, 1)) + EPSILON)\n",
    "        similar_user_mean = np.sum(similar_users, axis=1) / (np.sum(np.clip(similar_users, 0, 1), axis=1) + EPSILON)\n",
    "\n",
    "        users_who_rated_J = similar_users[:, j] > 0\n",
    "        \n",
    "        sum_mean = similar_values[users_who_rated_J] * (similar_users[users_who_rated_J, j] - similar_user_mean[users_who_rated_J])\n",
    "\n",
    "        weight = np.clip(similar_users[users_who_rated_J, j], 0, 1)\n",
    "        sum_mean *= weight\n",
    "\n",
    "        target_user_predictions[j] = user_mean + np.sum(sum_mean) / (np.sum(similar_values[users_who_rated_J]) + EPSILON)\n",
    "        target_user_predictions[j] = np.clip(target_user_predictions[j], 0, 5)\n",
    "\n",
    "\n",
    "actual_ratings = testingDataset.values[random_user, :]\n",
    "\n",
    "mse = mean_squared_error(actual_ratings, target_user_predictions)\n",
    "rmse = np.sqrt(mse)\n",
    "\n",
    "print(f\"RMSE for user {random_user} when K = {K}: {rmse}\")"
   ]
  },
  {
   "cell_type": "code",
   "execution_count": 28,
   "metadata": {},
   "outputs": [
    {
     "name": "stdout",
     "output_type": "stream",
     "text": [
      "RMSE for user 1949 when K = 30: 0.1163237133796566\n"
     ]
    }
   ],
   "source": [
    "# Following code inspired from item_KNN_based_CF.ipynb -> courtesy of RMIT.\n",
    "K = 30\n",
    "EPSILON = 1e-9\n",
    "\n",
    "target_user_predictions = np.zeros_like(testingDataset.values[random_user])\n",
    "\n",
    "for j in range(n_movies):\n",
    "    if testingDataset.values[random_user, j] > 0:\n",
    "        similar_user_ids = np.argsort(jaccard_similarity_score[random_user])[-(K + 1):-1]\n",
    "\n",
    "        similar_values = jaccard_similarity_score[random_user][similar_user_ids]\n",
    "\n",
    "        similar_users = trainingDataset.values[similar_user_ids]\n",
    "        user_mean = np.sum(trainingDataset.values[random_user]) / (np.sum(np.clip(trainingDataset.values[random_user], 0, 1)) + EPSILON)\n",
    "        similar_user_mean = np.sum(similar_users, axis=1) / (np.sum(np.clip(similar_users, 0, 1), axis=1) + EPSILON)\n",
    "\n",
    "        users_who_rated_J = similar_users[:, j] > 0\n",
    "        \n",
    "        sum_mean = similar_values[users_who_rated_J] * (similar_users[users_who_rated_J, j] - similar_user_mean[users_who_rated_J])\n",
    "\n",
    "        weight = np.clip(similar_users[users_who_rated_J, j], 0, 1)\n",
    "        sum_mean *= weight\n",
    "\n",
    "        target_user_predictions[j] = user_mean + np.sum(sum_mean) / (np.sum(similar_values[users_who_rated_J]) + EPSILON)\n",
    "        target_user_predictions[j] = np.clip(target_user_predictions[j], 0, 5)\n",
    "\n",
    "actual_ratings = testingDataset.values[random_user, :]\n",
    "\n",
    "mse = mean_squared_error(actual_ratings, target_user_predictions)\n",
    "rmse = np.sqrt(mse)\n",
    "\n",
    "print(f\"RMSE for user {random_user} when K = {K}: {rmse}\")"
   ]
  },
  {
   "cell_type": "code",
   "execution_count": 29,
   "metadata": {},
   "outputs": [
    {
     "name": "stdout",
     "output_type": "stream",
     "text": [
      "RMSE for user 1949 when K = 50: 0.11259699576782761\n"
     ]
    }
   ],
   "source": [
    "# Following code inspired from item_KNN_based_CF.ipynb -> courtesy of RMIT.\n",
    "K = 50\n",
    "EPSILON = 1e-9\n",
    "\n",
    "target_user_predictions = np.zeros_like(testingDataset.values[random_user])\n",
    "\n",
    "for j in range(n_movies):\n",
    "    if testingDataset.values[random_user, j] > 0:\n",
    "        similar_user_ids = np.argsort(jaccard_similarity_score[random_user])[-(K + 1):-1]\n",
    "\n",
    "        similar_values = jaccard_similarity_score[random_user][similar_user_ids]\n",
    "\n",
    "        similar_users = trainingDataset.values[similar_user_ids]\n",
    "        user_mean = np.sum(trainingDataset.values[random_user]) / (np.sum(np.clip(trainingDataset.values[random_user], 0, 1)) + EPSILON)\n",
    "        similar_user_mean = np.sum(similar_users, axis=1) / (np.sum(np.clip(similar_users, 0, 1), axis=1) + EPSILON)\n",
    "\n",
    "        users_who_rated_J = similar_users[:, j] > 0\n",
    "        \n",
    "        sum_mean = similar_values[users_who_rated_J] * (similar_users[users_who_rated_J, j] - similar_user_mean[users_who_rated_J])\n",
    "\n",
    "        weight = np.clip(similar_users[users_who_rated_J, j], 0, 1)\n",
    "        sum_mean *= weight\n",
    "\n",
    "        target_user_predictions[j] = user_mean + np.sum(sum_mean) / (np.sum(similar_values[users_who_rated_J]) + EPSILON)\n",
    "        target_user_predictions[j] = np.clip(target_user_predictions[j], 0, 5)\n",
    "\n",
    "actual_ratings = testingDataset.values[random_user, :]\n",
    "\n",
    "mse = mean_squared_error(actual_ratings, target_user_predictions)\n",
    "rmse = np.sqrt(mse)\n",
    "\n",
    "print(f\"RMSE for user {random_user} when K = {K}: {rmse}\")"
   ]
  },
  {
   "cell_type": "markdown",
   "metadata": {
    "id": "r-i5aIqXpPbu"
   },
   "source": [
    "# Task 2: Item-based Filtering"
   ]
  },
  {
   "cell_type": "markdown",
   "metadata": {},
   "source": [
    "# Jaccard similarity metric."
   ]
  },
  {
   "cell_type": "code",
   "execution_count": 30,
   "metadata": {},
   "outputs": [],
   "source": [
    "# An array is created to store Jaccard similarity metrics based on movies\n",
    "np_movie_jaccard_similarity = np.zeros((n_movies, n_movies))\n",
    "# Nested loop that will calc and store the similarity scores of every pair of users.\n",
    "# Item based filtering so the training dataset matrix must be transposed.\n",
    "for i, item_i in enumerate(trainingDataset.T.values):\n",
    "    for j, item_j in enumerate(trainingDataset.T.values):\n",
    "        \n",
    "        #Getting the users that rated each movie\n",
    "        users_rated_i = set(np.where(item_i > 0)[0])\n",
    "        users_rated_j = set(np.where(item_j > 0)[0])\n",
    "        #Getting the intersection and the union of these retings\n",
    "        intersection = len(users_rated_i.intersection(users_rated_j))\n",
    "        union = len(users_rated_i.union(users_rated_j))\n",
    "        #Calclulating the similarity score.\n",
    "        if union == 0:\n",
    "            jaccard_similarity = 0.0\n",
    "        else:\n",
    "            jaccard_similarity = intersection / union\n",
    "        #Storing the similarity in the array. \n",
    "        np_movie_jaccard_similarity[i][j] = jaccard_similarity"
   ]
  },
  {
   "cell_type": "code",
   "execution_count": 31,
   "metadata": {},
   "outputs": [
    {
     "data": {
      "text/plain": [
       "array([[1.        , 0.14918676, 0.0831899 , ..., 0.01028939, 0.00513809,\n",
       "        0.05290397],\n",
       "       [0.14918676, 1.        , 0.09746835, ..., 0.01851852, 0.00369004,\n",
       "        0.0546875 ],\n",
       "       [0.0831899 , 0.09746835, 1.        , ..., 0.0156658 , 0.0026178 ,\n",
       "        0.04677419],\n",
       "       ...,\n",
       "       [0.01028939, 0.01851852, 0.0156658 , ..., 1.        , 0.08196721,\n",
       "        0.06410256],\n",
       "       [0.00513809, 0.00369004, 0.0026178 , ..., 0.08196721, 1.        ,\n",
       "        0.04153355],\n",
       "       [0.05290397, 0.0546875 , 0.04677419, ..., 0.06410256, 0.04153355,\n",
       "        1.        ]])"
      ]
     },
     "execution_count": 31,
     "metadata": {},
     "output_type": "execute_result"
    }
   ],
   "source": [
    "np_movie_jaccard_similarity"
   ]
  },
  {
   "cell_type": "code",
   "execution_count": 32,
   "metadata": {},
   "outputs": [
    {
     "name": "stdout",
     "output_type": "stream",
     "text": [
      "RMSE (Item-based): 0.384316590493689\n"
     ]
    }
   ],
   "source": [
    "# Following code inspired from item_KNN_based_CF.ipynb -> courtesy of RMIT.\n",
    "K = 10  # Number of similar movies to consider\n",
    "EPSILON = 1e-9\n",
    "predictions = np.zeros((n_users, n_movies))\n",
    "for i in range(n_movies):\n",
    "    # Check if user i has rated the target movie\n",
    "    if trainingDataset[i][random_movie] > 0:\n",
    "        # Find top-K most similar movie to the target item based on Jaccard similarity\n",
    "        similar_movie_ids = np.argsort(np_movie_jaccard_similarity[random_movie])[::-1][:K]\n",
    "\n",
    "        # Coefficient values of similar movie\n",
    "        similar_values = np_movie_jaccard_similarity[random_movie][similar_movie_ids]\n",
    "\n",
    "        # Average rating of the target movie\n",
    "        movie_rating_mean = np.sum(trainingDataset.T.values[random_movie]) / (\n",
    "            np.sum(np.clip(trainingDataset.T.values[random_movie], 0, 1)) + EPSILON\n",
    "        )\n",
    "\n",
    "        # Ratings of similar movie for user i\n",
    "        similar_movies = trainingDataset.T.values[similar_movie_ids]\n",
    "        similar_movies_mean = np.sum(similar_movies, axis=1) / (\n",
    "            np.sum(np.clip(similar_movies, 0, 1), axis=1) + EPSILON\n",
    "        )\n",
    "\n",
    "        # Calculate the predicted rating for user i and the target movie\n",
    "        similar_sum_mean = similar_values * (similar_movies[:, i] - similar_movies_mean)\n",
    "        weight = np.clip(similar_movies[:, i], 0, 1)\n",
    "        similar_sum_mean *= weight\n",
    "\n",
    "        predictions[i][random_movie] = movie_rating_mean + np.sum(similar_sum_mean) / (np.sum(similar_values * weight) + EPSILON)\n",
    "        predictions[i][random_movie] = np.clip(predictions[i][random_movie], 0, 5)\n",
    "        \n",
    "## RMSE on Testing set (Jaccard  similarity)\n",
    "\n",
    "rmse = np.sqrt(mean_squared_error(testingDataset.values[random_movie, :], predictions[random_movie, :]))\n",
    "print(\"RMSE (Item-based): \" + str(rmse));"
   ]
  },
  {
   "cell_type": "code",
   "execution_count": 33,
   "metadata": {
    "scrolled": true
   },
   "outputs": [],
   "source": [
    "np_movie_cosine_similarity = np.zeros((n_movies, n_movies))"
   ]
  },
  {
   "cell_type": "markdown",
   "metadata": {},
   "source": [
    "# Implementing Cosine Similarity. "
   ]
  },
  {
   "cell_type": "code",
   "execution_count": 34,
   "metadata": {},
   "outputs": [],
   "source": [
    "from sklearn.metrics.pairwise import cosine_similarity\n",
    "\n",
    "for i, item_i in enumerate(trainingDataset.T.values):\n",
    "    for j, item_j in enumerate(trainingDataset.T.values):\n",
    "        \n",
    "        # Calculate cosine similarity between item_i and item_j\n",
    "        np_movie_cosine_similarity[i][j] =  cosine_similarity([item_i], [item_j])[0][0]"
   ]
  },
  {
   "cell_type": "code",
   "execution_count": 35,
   "metadata": {},
   "outputs": [
    {
     "name": "stdout",
     "output_type": "stream",
     "text": [
      "RMSE (Item-based): 0.3843205341548034\n"
     ]
    }
   ],
   "source": [
    "# Following code inspired from item_KNN_based_CF.ipynb -> courtesy of RMIT.\n",
    "K = 10  # Number of similar movies to consider\n",
    "EPSILON = 1e-9\n",
    "predictions = np.zeros((n_users, n_movies))\n",
    "\n",
    "for i in range(n_movies):\n",
    "    # Check if user i has rated the target movie\n",
    "    if trainingDataset[i][random_movie] > 0:\n",
    "        # Find top-K most similar movie to the target item based on cosine similarity\n",
    "        similar_movie_ids = np.argsort(np_movie_cosine_similarity[random_movie])[::-1][:K]\n",
    "\n",
    "        # Coefficient values of similar movie\n",
    "        similar_values = np_movie_cosine_similarity[random_movie][similar_movie_ids]\n",
    "\n",
    "        # Average rating of the target movie\n",
    "        movie_rating_mean = np.sum(trainingDataset.T.values[random_movie]) / (\n",
    "            np.sum(np.clip(trainingDataset.T.values[random_movie], 0, 1)) + EPSILON\n",
    "        )\n",
    "\n",
    "        # Ratings of similar movie for user i\n",
    "        similar_movies = trainingDataset.T.values[similar_movie_ids]\n",
    "        similar_movies_mean = np.sum(similar_movies, axis=1) / (\n",
    "            np.sum(np.clip(similar_movies, 0, 1), axis=1) + EPSILON\n",
    "        )\n",
    "\n",
    "        # Calculate the predicted rating for user i and the target movie\n",
    "        similar_sum_mean = similar_values * (similar_movies[:, i] - similar_movies_mean)\n",
    "        weight = np.clip(similar_movies[:, i], 0, 1)\n",
    "        similar_sum_mean *= weight\n",
    "\n",
    "        predictions[i][random_movie] = movie_rating_mean + np.sum(similar_sum_mean) / (np.sum(similar_values * weight) + EPSILON)\n",
    "        predictions[i][random_movie] = np.clip(predictions[i][random_movie], 0, 5)\n",
    "        \n",
    "# RMSE on Testing set (Cosine  similarity)\n",
    "rmse = np.sqrt(mean_squared_error(testingDataset.values, predictions))\n",
    "print(\"RMSE (Item-based): \" + str(rmse));"
   ]
  },
  {
   "cell_type": "markdown",
   "metadata": {
    "id": "r-i5aIqXpPbu"
   },
   "source": [
    "# Task 3: A Better Recommender System: OptionRecSys1"
   ]
  },
  {
   "cell_type": "markdown",
   "metadata": {},
   "source": [
    "Task 3.1"
   ]
  },
  {
   "cell_type": "code",
   "execution_count": 36,
   "metadata": {},
   "outputs": [],
   "source": [
    "# Following code inspired from item_KNN_based_CF.ipynb -> courtesy of RMIT.\n",
    "DELTA = 25\n",
    "EPSILON = 1e-9\n",
    "\n",
    "np_user_pearson_corr = np.zeros((n_users, n_users))\n",
    "\n",
    "for i, user_i in enumerate(trainingDataset.values):\n",
    "    for j, user_j in enumerate(trainingDataset.values):\n",
    "        \n",
    "        # Creation of two boolean masks. \n",
    "        # Masks filters for all ratings from a user that's over zero. \n",
    "        # Ratings by the current pair of users\n",
    "        mask_i = user_i > 0\n",
    "        mask_j = user_j > 0\n",
    "\n",
    "        # Common items rated by both users\n",
    "        #Getting the intersection. All the movies where both users I and J watched and rated.\n",
    "        corrated_index = np.intersect1d(np.where(mask_i), np.where(mask_j))\n",
    "        if len(corrated_index) == 0:\n",
    "            continue\n",
    "\n",
    "        # Average value of user i and user j\n",
    "        # getting the mean rating for both users.\n",
    "        mean_user_i = np.sum(user_i) / (np.sum(np.clip(user_i, 0, 1)) + EPSILON)\n",
    "        mean_user_j = np.sum(user_j) / (np.sum(np.clip(user_j, 0, 1)) + EPSILON)\n",
    "\n",
    "        # Computing Pearson correlation\n",
    "        \n",
    "        # minusing the intersection by the mean. \n",
    "        user_i_sub_mean = user_i[corrated_index] - mean_user_i\n",
    "        user_j_sub_mean = user_j[corrated_index] - mean_user_j\n",
    "\n",
    "        #Squaring the sub means\n",
    "        r_ui_sub_ri_sq = np.square(user_i_sub_mean)\n",
    "        r_uj_sub_rj_sq = np.square(user_j_sub_mean)\n",
    "        \n",
    "        #getting the sum and square rooting the submeans.\n",
    "        r_ui_sub_ri_sq_sum_sqrt = np.sqrt(np.sum(r_ui_sub_ri_sq))\n",
    "        r_uj_sub_rj_sq_sum_sqrt = np.sqrt(np.sum(r_uj_sub_rj_sq))\n",
    "        \n",
    "        #calculating the similarity score. \n",
    "        sim = np.sum(user_i_sub_mean * user_j_sub_mean) / (r_ui_sub_ri_sq_sum_sqrt * r_uj_sub_rj_sq_sum_sqrt + EPSILON)\n",
    "\n",
    "        # Significance weighting\n",
    "        np_user_pearson_corr[i][j] = (min(len(corrated_index), DELTA) / DELTA) * sim\n",
    "\n",
    "        "
   ]
  },
  {
   "cell_type": "code",
   "execution_count": 37,
   "metadata": {},
   "outputs": [
    {
     "data": {
      "text/plain": [
       "array([[ 1.        , -0.06611845, -0.10189333, ...,  0.        ,\n",
       "         0.02637021,  0.11399329],\n",
       "       [-0.06611845,  1.        ,  0.06006731, ..., -0.08409993,\n",
       "         0.11496231, -0.15785952],\n",
       "       [-0.10189333,  0.06006731,  1.        , ...,  0.00948718,\n",
       "         0.09284253, -0.14097359],\n",
       "       ...,\n",
       "       [ 0.        , -0.08409993,  0.00948718, ...,  0.56      ,\n",
       "        -0.00581789, -0.14864572],\n",
       "       [ 0.02637021,  0.11496231,  0.09284253, ..., -0.00581789,\n",
       "         1.        ,  0.34925633],\n",
       "       [ 0.11399329, -0.15785952, -0.14097359, ..., -0.14864572,\n",
       "         0.34925633,  1.        ]])"
      ]
     },
     "execution_count": 37,
     "metadata": {},
     "output_type": "execute_result"
    }
   ],
   "source": [
    "np_user_pearson_corr"
   ]
  },
  {
   "cell_type": "code",
   "execution_count": 38,
   "metadata": {},
   "outputs": [
    {
     "name": "stdout",
     "output_type": "stream",
     "text": [
      "RMSE for user 1949 when K = 1: 0.11354582624158482\n"
     ]
    }
   ],
   "source": [
    "# Following code inspired from item_KNN_based_CF.ipynb -> courtesy of RMIT.\n",
    "K = 1\n",
    "EPSILON = 1e-9\n",
    "\n",
    "# Create an array to store predictions for user 1949\n",
    "target_user_predictions = np.zeros_like(testingDataset.values[random_user])\n",
    "\n",
    "for j in range(n_movies):\n",
    "    if testingDataset.values[random_user, j] > 0:\n",
    "        # Find top-K most similar users to the target user, excluding itself\n",
    "        similar_user_ids = np.argsort(np_user_pearson_corr[random_user])[-(K + 1):-1]\n",
    "\n",
    "        # Generates the coefficient values of similar users\n",
    "        similar_values = np_user_pearson_corr[random_user][similar_user_ids]\n",
    "\n",
    "        # Calculates the average value of the target user's ratings\n",
    "        similar_users = trainingDataset.values[similar_user_ids]\n",
    "        user_mean = np.sum(trainingDataset.values[random_user]) / (np.sum(np.clip(trainingDataset.values[random_user], 0, 1)) + EPSILON)\n",
    "        similar_user_mean = np.sum(similar_users, axis=1) / (np.sum(np.clip(similar_users, 0, 1), axis=1) + EPSILON)\n",
    "\n",
    "        # Select the users who rated item j\n",
    "        users_who_rated_J = similar_users[:, j] > 0\n",
    "        \n",
    "        sum_mean = similar_values[users_who_rated_J] * (similar_users[users_who_rated_J, j] - similar_user_mean[users_who_rated_J])\n",
    "\n",
    "        # Filter unrated items\n",
    "        weight = np.clip(similar_users[users_who_rated_J, j], 0, 1)\n",
    "        sum_mean *= weight\n",
    "\n",
    "        # Calculate the predicted rating for item j by the target user\n",
    "        target_user_predictions[j] = user_mean + np.sum(sum_mean) / (np.sum(similar_values[users_who_rated_J]) + EPSILON)\n",
    "        target_user_predictions[j] = np.clip(target_user_predictions[j], 0, 5)\n",
    "\n",
    "# Actual ratings for the target user\n",
    "actual_ratings = testingDataset.values[random_user, :]\n",
    "\n",
    "# Calculate RMSE for the target user's ratings\n",
    "mse = mean_squared_error(actual_ratings, target_user_predictions)\n",
    "rmse = np.sqrt(mse)\n",
    "\n",
    "print(f\"RMSE for user {random_user} when K = {K}: {rmse}\")"
   ]
  },
  {
   "cell_type": "code",
   "execution_count": 39,
   "metadata": {},
   "outputs": [
    {
     "name": "stdout",
     "output_type": "stream",
     "text": [
      "RMSE for user 1949 when K = 10: 0.08695366109121724\n"
     ]
    }
   ],
   "source": [
    "# Following code inspired from item_KNN_based_CF.ipynb -> courtesy of RMIT.\n",
    "K = 10\n",
    "EPSILON = 1e-9\n",
    "\n",
    "# Create an array to store predictions for user 1949\n",
    "target_user_predictions = np.zeros_like(testingDataset.values[random_user])\n",
    "\n",
    "for j in range(n_movies):\n",
    "    if testingDataset.values[random_user, j] > 0:\n",
    "        # Find top-K most similar users to the target user, excluding itself\n",
    "        similar_user_ids = np.argsort(np_user_pearson_corr[random_user])[-(K + 1):-1]\n",
    "\n",
    "        # Generates the coefficient values of similar users\n",
    "        similar_values = np_user_pearson_corr[random_user][similar_user_ids]\n",
    "\n",
    "        # Calculates the average value of the target user's ratings\n",
    "        similar_users = trainingDataset.values[similar_user_ids]\n",
    "        user_mean = np.sum(trainingDataset.values[random_user]) / (np.sum(np.clip(trainingDataset.values[random_user], 0, 1)) + EPSILON)\n",
    "        similar_user_mean = np.sum(similar_users, axis=1) / (np.sum(np.clip(similar_users, 0, 1), axis=1) + EPSILON)\n",
    "\n",
    "        # Select the users who rated item j\n",
    "        users_who_rated_J = similar_users[:, j] > 0\n",
    "        \n",
    "        sum_mean = similar_values[users_who_rated_J] * (similar_users[users_who_rated_J, j] - similar_user_mean[users_who_rated_J])\n",
    "\n",
    "        # Filter unrated items\n",
    "        weight = np.clip(similar_users[users_who_rated_J, j], 0, 1)\n",
    "        sum_mean *= weight\n",
    "\n",
    "        # Calculate the predicted rating for item j by the target user\n",
    "        target_user_predictions[j] = user_mean + np.sum(sum_mean) / (np.sum(similar_values[users_who_rated_J]) + EPSILON)\n",
    "        target_user_predictions[j] = np.clip(target_user_predictions[j], 0, 5)\n",
    "\n",
    "# Actual ratings for the target user\n",
    "actual_ratings = testingDataset.values[random_user, :]\n",
    "\n",
    "mse = mean_squared_error(actual_ratings, target_user_predictions)\n",
    "rmse = np.sqrt(mse)\n",
    "\n",
    "print(f\"RMSE for user {random_user} when K = {K}: {rmse}\")"
   ]
  },
  {
   "cell_type": "code",
   "execution_count": 40,
   "metadata": {},
   "outputs": [
    {
     "name": "stdout",
     "output_type": "stream",
     "text": [
      "RMSE for user 1949 when K = 20: 0.08120000718904473\n"
     ]
    }
   ],
   "source": [
    "# Following code inspired from item_KNN_based_CF.ipynb -> courtesy of RMIT.\n",
    "K = 20\n",
    "EPSILON = 1e-9\n",
    "\n",
    "# Create an array to store predictions for user 1949\n",
    "target_user_predictions = np.zeros_like(testingDataset.values[random_user])\n",
    "\n",
    "for j in range(n_movies):\n",
    "    if testingDataset.values[random_user, j] > 0:\n",
    "        # Find top-K most similar users to the target user, excluding itself\n",
    "        similar_user_ids = np.argsort(np_user_pearson_corr[random_user])[-(K + 1):-1]\n",
    "\n",
    "        # Generates the coefficient values of similar users\n",
    "        similar_values = np_user_pearson_corr[random_user][similar_user_ids]\n",
    "\n",
    "        # Calculates the average value of the target user's ratings\n",
    "        similar_users = trainingDataset.values[similar_user_ids]\n",
    "        user_mean = np.sum(trainingDataset.values[random_user]) / (np.sum(np.clip(trainingDataset.values[random_user], 0, 1)) + EPSILON)\n",
    "        similar_user_mean = np.sum(similar_users, axis=1) / (np.sum(np.clip(similar_users, 0, 1), axis=1) + EPSILON)\n",
    "\n",
    "        # Select the users who rated item j\n",
    "        users_who_rated_J = similar_users[:, j] > 0\n",
    "        \n",
    "        sum_mean = similar_values[users_who_rated_J] * (similar_users[users_who_rated_J, j] - similar_user_mean[users_who_rated_J])\n",
    "\n",
    "        # Filter unrated items\n",
    "        weight = np.clip(similar_users[users_who_rated_J, j], 0, 1)\n",
    "        sum_mean *= weight\n",
    "\n",
    "        # Calculate the predicted rating for item j by the target user\n",
    "        target_user_predictions[j] = user_mean + np.sum(sum_mean) / (np.sum(similar_values[users_who_rated_J]) + EPSILON)\n",
    "        target_user_predictions[j] = np.clip(target_user_predictions[j], 0, 5)\n",
    "\n",
    "# Actual ratings for the target user\n",
    "actual_ratings = testingDataset.values[random_user, :]\n",
    "\n",
    "mse = mean_squared_error(actual_ratings, target_user_predictions)\n",
    "rmse = np.sqrt(mse)\n",
    "\n",
    "print(f\"RMSE for user {random_user} when K = {K}: {rmse}\")"
   ]
  },
  {
   "cell_type": "code",
   "execution_count": 41,
   "metadata": {},
   "outputs": [
    {
     "name": "stdout",
     "output_type": "stream",
     "text": [
      "RMSE for user 1949 when K = 30: 0.0911502660340976\n"
     ]
    }
   ],
   "source": [
    "# Following code inspired from item_KNN_based_CF.ipynb -> courtesy of RMIT.\n",
    "K = 30\n",
    "EPSILON = 1e-9\n",
    "\n",
    "# Create an array to store predictions for user 1949\n",
    "target_user_predictions = np.zeros_like(testingDataset.values[random_user])\n",
    "\n",
    "for j in range(n_movies):\n",
    "    if testingDataset.values[random_user, j] > 0:\n",
    "        # Find top-K most similar users to the target user, excluding itself\n",
    "        similar_user_ids = np.argsort(np_user_pearson_corr[random_user])[-(K + 1):-1]\n",
    "\n",
    "        # Generates the coefficient values of similar users\n",
    "        similar_values = np_user_pearson_corr[random_user][similar_user_ids]\n",
    "\n",
    "        # Calculates the average value of the target user's ratings\n",
    "        similar_users = trainingDataset.values[similar_user_ids]\n",
    "        user_mean = np.sum(trainingDataset.values[random_user]) / (np.sum(np.clip(trainingDataset.values[random_user], 0, 1)) + EPSILON)\n",
    "        similar_user_mean = np.sum(similar_users, axis=1) / (np.sum(np.clip(similar_users, 0, 1), axis=1) + EPSILON)\n",
    "\n",
    "        # Select the users who rated item j\n",
    "        users_who_rated_J = similar_users[:, j] > 0\n",
    "        \n",
    "        sum_mean = similar_values[users_who_rated_J] * (similar_users[users_who_rated_J, j] - similar_user_mean[users_who_rated_J])\n",
    "\n",
    "        # Filter unrated items\n",
    "        weight = np.clip(similar_users[users_who_rated_J, j], 0, 1)\n",
    "        sum_mean *= weight\n",
    "\n",
    "        # Calculate the predicted rating for item j by the target user\n",
    "        target_user_predictions[j] = user_mean + np.sum(sum_mean) / (np.sum(similar_values[users_who_rated_J]) + EPSILON)\n",
    "        target_user_predictions[j] = np.clip(target_user_predictions[j], 0, 5)\n",
    "\n",
    "# Actual ratings for the target user\n",
    "actual_ratings = testingDataset.values[random_user, :]\n",
    "\n",
    "mse = mean_squared_error(actual_ratings, target_user_predictions)\n",
    "rmse = np.sqrt(mse)\n",
    "\n",
    "print(f\"RMSE for user {random_user} when K = {K}: {rmse}\")"
   ]
  },
  {
   "cell_type": "code",
   "execution_count": 42,
   "metadata": {},
   "outputs": [
    {
     "name": "stdout",
     "output_type": "stream",
     "text": [
      "RMSE for user 1949 when K = 50: 0.09448551994740487\n"
     ]
    }
   ],
   "source": [
    "# Following code inspired from item_KNN_based_CF.ipynb -> courtesy of RMIT.\n",
    "K = 50\n",
    "EPSILON = 1e-9\n",
    "\n",
    "# Create an array to store predictions for user 1949\n",
    "target_user_predictions = np.zeros_like(testingDataset.values[random_user])\n",
    "\n",
    "for j in range(n_movies):\n",
    "    if testingDataset.values[random_user, j] > 0:\n",
    "        # Find top-K most similar users to the target user, excluding itself\n",
    "        similar_user_ids = np.argsort(np_user_pearson_corr[random_user])[-(K + 1):-1]\n",
    "\n",
    "        # Generates the coefficient values of similar users\n",
    "        similar_values = np_user_pearson_corr[random_user][similar_user_ids]\n",
    "\n",
    "        # Calculates the average value of the target user's ratings\n",
    "        similar_users = trainingDataset.values[similar_user_ids]\n",
    "        user_mean = np.sum(trainingDataset.values[random_user]) / (np.sum(np.clip(trainingDataset.values[random_user], 0, 1)) + EPSILON)\n",
    "        similar_user_mean = np.sum(similar_users, axis=1) / (np.sum(np.clip(similar_users, 0, 1), axis=1) + EPSILON)\n",
    "\n",
    "        # Select the users who rated item j\n",
    "        users_who_rated_J = similar_users[:, j] > 0\n",
    "        \n",
    "        sum_mean = similar_values[users_who_rated_J] * (similar_users[users_who_rated_J, j] - similar_user_mean[users_who_rated_J])\n",
    "\n",
    "        # Filter unrated items\n",
    "        weight = np.clip(similar_users[users_who_rated_J, j], 0, 1)\n",
    "        sum_mean *= weight\n",
    "\n",
    "        # Calculate the predicted rating for item j by the target user\n",
    "        target_user_predictions[j] = user_mean + np.sum(sum_mean) / (np.sum(similar_values[users_who_rated_J]) + EPSILON)\n",
    "        target_user_predictions[j] = np.clip(target_user_predictions[j], 0, 5)\n",
    "\n",
    "# Actual ratings for the target user\n",
    "actual_ratings = testingDataset.values[random_user, :]\n",
    "\n",
    "mse = mean_squared_error(actual_ratings, target_user_predictions)\n",
    "rmse = np.sqrt(mse)\n",
    "\n",
    "print(f\"RMSE for user {random_user} when K = {K}: {rmse}\")"
   ]
  }
 ],
 "metadata": {
  "colab": {
   "collapsed_sections": [],
   "name": "assignment1_TEMPLATE.ipynb",
   "provenance": [],
   "toc_visible": true
  },
  "kernelspec": {
   "display_name": "Python 3 (ipykernel)",
   "language": "python",
   "name": "python3"
  },
  "language_info": {
   "codemirror_mode": {
    "name": "ipython",
    "version": 3
   },
   "file_extension": ".py",
   "mimetype": "text/x-python",
   "name": "python",
   "nbconvert_exporter": "python",
   "pygments_lexer": "ipython3",
   "version": "3.11.3"
  }
 },
 "nbformat": 4,
 "nbformat_minor": 1
}
